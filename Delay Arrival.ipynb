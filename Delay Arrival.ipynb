{
 "cells": [
  {
   "cell_type": "code",
   "execution_count": 1,
   "metadata": {
    "collapsed": true
   },
   "outputs": [],
   "source": [
    "import pandas as pd\n",
    "import matplotlib.pyplot as plt\n",
    "import numpy as np\n",
    "import seaborn as sns\n",
    "sns.set_style('darkgrid')\n",
    "%matplotlib inline"
   ]
  },
  {
   "cell_type": "code",
   "execution_count": 2,
   "metadata": {
    "collapsed": true
   },
   "outputs": [],
   "source": [
    "auto1 =pd.read_csv('/home/alien/Downloads/1987.csv',nrows = 400000)\n",
    "auto2 =pd.read_csv('/home/alien/Downloads/1988.csv',nrows = 400000)\n",
    "auto3 =pd.read_csv('/home/alien/Downloads/1989.csv',nrows = 400000)\n",
    "auto4 =pd.read_csv('/home/alien/Downloads/1990.csv',nrows = 400000)\n",
    "auto5 =pd.read_csv('/home/alien/Downloads/1991.csv',nrows = 400000)\n",
    "auto6 =pd.read_csv('/home/alien/Downloads/1992.csv',nrows = 400000)\n",
    "auto7 =pd.read_csv('/home/alien/Downloads/1993.csv',nrows = 400000)\n",
    "auto8 =pd.read_csv('/home/alien/Downloads/1994.csv',nrows = 400000)\n",
    "auto9 =pd.read_csv('/home/alien/Downloads/1995.csv',nrows = 400000)\n",
    "auto10 =pd.read_csv('/home/alien/Downloads/1996.csv',nrows = 400000)\n",
    "auto11 =pd.read_csv('/home/alien/Downloads/1997.csv',nrows = 400000)\n",
    "auto12 =pd.read_csv('/home/alien/Downloads/1998.csv',nrows = 400000)\n",
    "auto13 =pd.read_csv('/home/alien/Downloads/1999.csv',nrows = 400000)\n",
    "auto14 =pd.read_csv('/home/alien/Downloads/2000.csv',nrows = 400000)\n",
    "auto15 =pd.read_csv('/home/alien/Downloads/2001.csv',nrows = 400000)\n",
    "auto16 =pd.read_csv('/home/alien/Downloads/2002.csv',nrows = 400000)\n",
    "auto17 =pd.read_csv('/home/alien/Downloads/2003.csv',nrows = 400000)\n",
    "auto18 =pd.read_csv('/home/alien/Downloads/2004.csv',nrows = 400000)\n",
    "auto19 =pd.read_csv('/home/alien/Downloads/2005.csv',nrows = 400000)\n",
    "auto20 =pd.read_csv('/home/alien/Downloads/2006.csv',nrows = 400000)\n",
    "auto21 =pd.read_csv('/home/alien/Downloads/2007.csv',nrows = 400000)\n",
    "auto22 =pd.read_csv('/home/alien/Downloads/2008.csv',nrows = 400000)"
   ]
  },
  {
   "cell_type": "code",
   "execution_count": 3,
   "metadata": {
    "collapsed": true
   },
   "outputs": [],
   "source": [
    "md=0\n",
    "me=0\n",
    "x=0\n",
    "y=0\n",
    "for i in auto1.ArrDelay.values:\n",
    "    if i>0:\n",
    "        md=md+i\n",
    "        x=x+1\n",
    "    elif i<0:\n",
    "        me=me+i\n",
    "        y=y+1\n",
    "mdauto1=(1.0*md)/x\n",
    "meauto1=(1.0*me)/y"
   ]
  },
  {
   "cell_type": "code",
   "execution_count": 4,
   "metadata": {
    "collapsed": true
   },
   "outputs": [],
   "source": [
    "md=0\n",
    "me=0\n",
    "x=0\n",
    "y=0\n",
    "for i in auto2.ArrDelay.values:\n",
    "    if i>0:\n",
    "        md=md+i\n",
    "        x=x+1\n",
    "    elif i<0:\n",
    "        me=me+i\n",
    "        y=y+1\n",
    "mdauto2=(1.0*md)/x\n",
    "meauto2=(1.0*me)/y  "
   ]
  },
  {
   "cell_type": "code",
   "execution_count": 5,
   "metadata": {
    "collapsed": true
   },
   "outputs": [],
   "source": [
    "md=0\n",
    "me=0\n",
    "x=0\n",
    "y=0\n",
    "for i in auto3.ArrDelay.values:\n",
    "    if i>0:\n",
    "        md=md+i\n",
    "        x=x+1\n",
    "    elif i<0:\n",
    "        me=me+i\n",
    "        y=y+1\n",
    "mdauto3=(1.0*md)/x\n",
    "meauto3=(1.0*me)/y"
   ]
  },
  {
   "cell_type": "code",
   "execution_count": 6,
   "metadata": {
    "collapsed": true
   },
   "outputs": [],
   "source": [
    "md=0\n",
    "me=0\n",
    "x=0\n",
    "y=0\n",
    "for i in auto4.ArrDelay.values:\n",
    "    if i>0:\n",
    "        md=md+i\n",
    "        x=x+1\n",
    "    elif i<0:\n",
    "        me=me+i\n",
    "        y=y+1\n",
    "mdauto4=(1.0*md)/x\n",
    "meauto4=(1.0*me)/y"
   ]
  },
  {
   "cell_type": "code",
   "execution_count": 7,
   "metadata": {
    "collapsed": true
   },
   "outputs": [],
   "source": [
    "md=0\n",
    "me=0\n",
    "x=0\n",
    "y=0\n",
    "for i in auto5.ArrDelay.values:\n",
    "    if i>0:\n",
    "        md=md+i\n",
    "        x=x+1\n",
    "    elif i<0:\n",
    "        me=me+i\n",
    "        y=y+1\n",
    "mdauto5=(1.0*md)/x\n",
    "meauto5=(1.0*me)/y"
   ]
  },
  {
   "cell_type": "code",
   "execution_count": 8,
   "metadata": {
    "collapsed": true
   },
   "outputs": [],
   "source": [
    "md=0\n",
    "me=0\n",
    "x=0\n",
    "y=0\n",
    "for i in auto6.ArrDelay.values:\n",
    "    if i>0:\n",
    "        md=md+i\n",
    "        x=x+1\n",
    "    elif i<0:\n",
    "        me=me+i\n",
    "        y=y+1\n",
    "mdauto6=(1.0*md)/x\n",
    "meauto6=(1.0*me)/y"
   ]
  },
  {
   "cell_type": "code",
   "execution_count": 9,
   "metadata": {
    "collapsed": false
   },
   "outputs": [],
   "source": [
    "md=0\n",
    "me=0\n",
    "x=0\n",
    "y=0\n",
    "for i in auto7.ArrDelay.values:\n",
    "    if i>0:\n",
    "        md=md+i\n",
    "        x=x+1\n",
    "    elif i<0:\n",
    "        me=me+i\n",
    "        y=y+1\n",
    "mdauto7=(1.0*md)/x\n",
    "meauto7=(1.0*me)/y  "
   ]
  },
  {
   "cell_type": "code",
   "execution_count": 10,
   "metadata": {
    "collapsed": true
   },
   "outputs": [],
   "source": [
    "md=0\n",
    "me=0\n",
    "x=0\n",
    "y=0\n",
    "for i in auto8.ArrDelay.values:\n",
    "    if i>0:\n",
    "        md=md+i\n",
    "        x=x+1\n",
    "    elif i<0:\n",
    "        me=me+i\n",
    "        y=y+1\n",
    "mdauto8=(1.0*md)/x\n",
    "meauto8=(1.0*me)/y "
   ]
  },
  {
   "cell_type": "code",
   "execution_count": 11,
   "metadata": {
    "collapsed": true
   },
   "outputs": [],
   "source": [
    "md=0\n",
    "me=0\n",
    "x=0\n",
    "y=0\n",
    "for i in auto9.ArrDelay.values:\n",
    "    if i>0:\n",
    "        md=md+i\n",
    "        x=x+1\n",
    "    elif i<0:\n",
    "        me=me+i\n",
    "        y=y+1\n",
    "mdauto9=(1.0*md)/x\n",
    "meauto9=(1.0*me)/y  \n"
   ]
  },
  {
   "cell_type": "code",
   "execution_count": 12,
   "metadata": {
    "collapsed": true
   },
   "outputs": [],
   "source": [
    "md=0\n",
    "me=0\n",
    "x=0\n",
    "y=0\n",
    "for i in auto10.ArrDelay.values:\n",
    "    if i>0:\n",
    "        md=md+i\n",
    "        x=x+1\n",
    "    elif i<0:\n",
    "        me=me+i\n",
    "        y=y+1\n",
    "mdauto10=(1.0*md)/x\n",
    "meauto10=(1.0*me)/y  "
   ]
  },
  {
   "cell_type": "code",
   "execution_count": 13,
   "metadata": {
    "collapsed": true
   },
   "outputs": [],
   "source": [
    "md=0\n",
    "me=0\n",
    "x=0\n",
    "y=0\n",
    "for i in auto11.ArrDelay.values:\n",
    "    if i>0:\n",
    "        md=md+i\n",
    "        x=x+1\n",
    "    elif i<0:\n",
    "        me=me+i\n",
    "        y=y+1\n",
    "mdauto11=(1.0*md)/x\n",
    "meauto11=(1.0*me)/y  "
   ]
  },
  {
   "cell_type": "code",
   "execution_count": 14,
   "metadata": {
    "collapsed": true
   },
   "outputs": [],
   "source": [
    "md=0\n",
    "me=0\n",
    "x=0\n",
    "y=0\n",
    "for i in auto12.ArrDelay.values:\n",
    "    if i>0:\n",
    "        md=md+i\n",
    "        x=x+1\n",
    "    elif i<0:\n",
    "        me=me+i\n",
    "        y=y+1\n",
    "mdauto12=(1.0*md)/x\n",
    "meauto12=(1.0*me)/y  "
   ]
  },
  {
   "cell_type": "code",
   "execution_count": 15,
   "metadata": {
    "collapsed": true
   },
   "outputs": [],
   "source": [
    "md=0\n",
    "me=0\n",
    "x=0\n",
    "y=0\n",
    "for i in auto13.ArrDelay.values:\n",
    "    if i>0:\n",
    "        md=md+i\n",
    "        x=x+1\n",
    "    elif i<0:\n",
    "        me=me+i\n",
    "        y=y+1\n",
    "mdauto13=(1.0*md)/x\n",
    "meauto13=(1.0*me)/y  "
   ]
  },
  {
   "cell_type": "code",
   "execution_count": 16,
   "metadata": {
    "collapsed": true
   },
   "outputs": [],
   "source": [
    "md=0\n",
    "me=0\n",
    "x=0\n",
    "y=0\n",
    "for i in auto14.ArrDelay.values:\n",
    "    if i>0:\n",
    "        md=md+i\n",
    "        x=x+1\n",
    "    elif i<0:\n",
    "        me=me+i\n",
    "        y=y+1\n",
    "mdauto14=(1.0*md)/x\n",
    "meauto14=(1.0*me)/y  "
   ]
  },
  {
   "cell_type": "code",
   "execution_count": 17,
   "metadata": {
    "collapsed": true
   },
   "outputs": [],
   "source": [
    "md=0\n",
    "me=0\n",
    "x=0\n",
    "y=0\n",
    "for i in auto15.ArrDelay.values:\n",
    "    if i>0:\n",
    "        md=md+i\n",
    "        x=x+1\n",
    "    elif i<0:\n",
    "        me=me+i\n",
    "        y=y+1\n",
    "mdauto15=(1.0*md)/x\n",
    "meauto15=(1.0*me)/y  "
   ]
  },
  {
   "cell_type": "code",
   "execution_count": 18,
   "metadata": {
    "collapsed": true
   },
   "outputs": [],
   "source": [
    "md=0\n",
    "me=0\n",
    "x=0\n",
    "y=0\n",
    "for i in auto16.ArrDelay.values:\n",
    "    if i>0:\n",
    "        md=md+i\n",
    "        x=x+1\n",
    "    elif i<0:\n",
    "        me=me+i\n",
    "        y=y+1\n",
    "mdauto16=(1.0*md)/x\n",
    "meauto16=(1.0*me)/y  "
   ]
  },
  {
   "cell_type": "code",
   "execution_count": 19,
   "metadata": {
    "collapsed": true
   },
   "outputs": [],
   "source": [
    "md=0\n",
    "me=0\n",
    "x=0\n",
    "y=0\n",
    "for i in auto17.ArrDelay.values:\n",
    "    if i>0:\n",
    "        md=md+i\n",
    "        x=x+1\n",
    "    elif i<0:\n",
    "        me=me+i\n",
    "        y=y+1\n",
    "mdauto17=(1.0*md)/x\n",
    "meauto17=(1.0*me)/y  "
   ]
  },
  {
   "cell_type": "code",
   "execution_count": 20,
   "metadata": {
    "collapsed": true
   },
   "outputs": [],
   "source": [
    "md=0\n",
    "me=0\n",
    "x=0\n",
    "y=0\n",
    "for i in auto18.ArrDelay.values:\n",
    "    if i>0:\n",
    "        md=md+i\n",
    "        x=x+1\n",
    "    elif i<0:\n",
    "        me=me+i\n",
    "        y=y+1\n",
    "mdauto18=(1.0*md)/x\n",
    "meauto18=(1.0*me)/y "
   ]
  },
  {
   "cell_type": "code",
   "execution_count": 21,
   "metadata": {
    "collapsed": true
   },
   "outputs": [],
   "source": [
    "md=0\n",
    "me=0\n",
    "x=0\n",
    "y=0\n",
    "for i in auto19.ArrDelay.values:\n",
    "    if i>0:\n",
    "        md=md+i\n",
    "        x=x+1\n",
    "    elif i<0:\n",
    "        me=me+i\n",
    "        y=y+1\n",
    "mdauto19=(1.0*md)/x\n",
    "meauto19=(1.0*me)/y  "
   ]
  },
  {
   "cell_type": "code",
   "execution_count": 22,
   "metadata": {
    "collapsed": true
   },
   "outputs": [],
   "source": [
    "md=0\n",
    "me=0\n",
    "x=0\n",
    "y=0\n",
    "for i in auto20.ArrDelay.values:\n",
    "    if i>0:\n",
    "        md=md+i\n",
    "        x=x+1\n",
    "    elif i<0:\n",
    "        me=me+i\n",
    "        y=y+1\n",
    "mdauto20=(1.0*md)/x\n",
    "meauto20=(1.0*me)/y "
   ]
  },
  {
   "cell_type": "code",
   "execution_count": 23,
   "metadata": {
    "collapsed": true
   },
   "outputs": [],
   "source": [
    "md=0\n",
    "me=0\n",
    "x=0\n",
    "y=0\n",
    "for i in auto21.ArrDelay.values:\n",
    "    if i>0:\n",
    "        md=md+i\n",
    "        x=x+1\n",
    "    elif i<0:\n",
    "        me=me+i\n",
    "        y=y+1\n",
    "mdauto21=(1.0*md)/x\n",
    "meauto21=(1.0*me)/y  "
   ]
  },
  {
   "cell_type": "code",
   "execution_count": 24,
   "metadata": {
    "collapsed": true
   },
   "outputs": [],
   "source": [
    "md=0\n",
    "me=0\n",
    "x=0\n",
    "y=0\n",
    "for i in auto22.ArrDelay.values:\n",
    "    if i>0:\n",
    "        md=md+i\n",
    "        x=x+1\n",
    "    elif i<0:\n",
    "        me=me+i\n",
    "        y=y+1\n",
    "mdauto22=(1.0*md)/x\n",
    "meauto22=(1.0*me)/y  "
   ]
  },
  {
   "cell_type": "code",
   "execution_count": 25,
   "metadata": {
    "collapsed": false
   },
   "outputs": [
    {
     "data": {
      "image/png": "[encoded data removed]",
      "text/plain": [
       "<matplotlib.figure.Figure at 0x7fbabdcad410>"
      ]
     },
     "metadata": {},
     "output_type": "display_data"
    }
   ],
   "source": [
    "year=[1987,1988,1989,1990,1991,1992,1993,1994,1995,1996,1997,1998,1999,2000,2001,2002,2003,2004,2005,2006,2007,2008]\n",
    "ticks=['1987','1988','1989','1990','1991','1992','1993','1994','1995','1996','1997','1998','1999','2000','2001','2002','2003','2004','2005','2006','2007','2008']\n",
    "meauto=[meauto1,meauto2,meauto3,meauto4,meauto5,meauto6,meauto7,meauto8,meauto9,meauto10,meauto11,meauto12,meauto13,meauto14,meauto15,meauto16,meauto17,meauto18,meauto19,meauto20,meauto21,meauto22]\n",
    "mdauto=[mdauto1,mdauto2,mdauto3,mdauto4,mdauto5,mdauto6,mdauto7,mdauto8,mdauto9,mdauto10,mdauto11,mdauto12,mdauto13,mdauto14,mdauto15,mdauto16,mdauto17,mdauto18,mdauto19,mdauto20,mdauto21,mdauto22]\n",
    "plt.ylabel('Time(mins)')\n",
    "plt.xlabel('Years')\n",
    "plt.title('1987-2008: Arrival Time Trend Analysis')\n",
    "plt.xlim(1987,2009)\n",
    "plt.ylim(-30,50)\n",
    "plt.xticks(year,ticks,rotation=90)\n",
    "plt.text(2008,meauto22+5,'Early arrival')\n",
    "plt.text(2008,mdauto22+5,'Delayed arrival')\n",
    "plt.plot(year,mdauto)\n",
    "plt.plot(year,meauto)\n",
    "plt.show()"
   ]
  },
  {
   "cell_type": "code",
   "execution_count": null,
   "metadata": {
    "collapsed": true
   },
   "outputs": [],
   "source": []
  }
 ],
 "metadata": {
  "kernelspec": {
   "display_name": "Python 2",
   "language": "python",
   "name": "python2"
  },
  "language_info": {
   "codemirror_mode": {
    "name": "ipython",
    "version": 2
   },
   "file_extension": ".py",
   "mimetype": "text/x-python",
   "name": "python",
   "nbconvert_exporter": "python",
   "pygments_lexer": "ipython2",
   "version": "2.7.10"
  }
 },
 "nbformat": 4,
 "nbformat_minor": 0
}
