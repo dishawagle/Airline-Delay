{
 "cells": [
  {
   "cell_type": "code",
   "execution_count": 1,
   "metadata": {
    "collapsed": false
   },
   "outputs": [],
   "source": [
    "import warnings\n",
    "warnings.filterwarnings('ignore')\n",
    "import pandas as pd\n",
    "import matplotlib.pyplot as plt\n",
    "import seaborn as sns\n",
    "sns.set_style(\"darkgrid\")\n",
    "%matplotlib inline"
   ]
  },
  {
   "cell_type": "code",
   "execution_count": 2,
   "metadata": {
    "collapsed": true
   },
   "outputs": [],
   "source": [
    "airline = pd.read_csv('/home/alien/Downloads/carriers.csv')\n",
    "auto1 =pd.read_csv('/home/alien/Downloads/1987.csv',nrows = 400000)\n",
    "auto2 =pd.read_csv('/home/alien/Downloads/1988.csv',nrows = 400000)\n",
    "auto3 =pd.read_csv('/home/alien/Downloads/1989.csv',nrows = 400000)\n",
    "auto4 =pd.read_csv('/home/alien/Downloads/1990.csv',nrows = 400000)\n",
    "auto5 =pd.read_csv('/home/alien/Downloads/1991.csv',nrows = 400000)\n",
    "auto6 =pd.read_csv('/home/alien/Downloads/1992.csv',nrows = 400000)\n",
    "auto7 =pd.read_csv('/home/alien/Downloads/1993.csv',nrows = 400000)\n",
    "auto8 =pd.read_csv('/home/alien/Downloads/1994.csv',nrows = 400000)\n",
    "auto9 =pd.read_csv('/home/alien/Downloads/1995.csv',nrows = 400000)\n",
    "auto10 =pd.read_csv('/home/alien/Downloads/1996.csv',nrows = 400000)\n",
    "auto11 =pd.read_csv('/home/alien/Downloads/1997.csv',nrows = 400000)\n",
    "auto12 =pd.read_csv('/home/alien/Downloads/1998.csv',nrows = 400000)\n",
    "auto13 =pd.read_csv('/home/alien/Downloads/1999.csv',nrows = 400000)\n",
    "auto14 =pd.read_csv('/home/alien/Downloads/2000.csv',nrows = 400000)\n",
    "auto15 =pd.read_csv('/home/alien/Downloads/2001.csv',nrows = 400000)\n",
    "auto16 =pd.read_csv('/home/alien/Downloads/2002.csv',nrows = 400000)\n",
    "auto17 =pd.read_csv('/home/alien/Downloads/2003.csv',nrows = 400000)\n",
    "auto18 =pd.read_csv('/home/alien/Downloads/2004.csv',nrows = 400000)\n",
    "auto19 =pd.read_csv('/home/alien/Downloads/2005.csv',nrows = 400000)\n",
    "auto20 =pd.read_csv('/home/alien/Downloads/2006.csv',nrows = 400000)\n",
    "auto21 =pd.read_csv('/home/alien/Downloads/2007.csv',nrows = 400000)\n",
    "auto22 =pd.read_csv('/home/alien/Downloads/2008.csv',nrows = 400000)"
   ]
  },
  {
   "cell_type": "code",
   "execution_count": 3,
   "metadata": {
    "collapsed": true
   },
   "outputs": [],
   "source": [
    "#Generating a variable defining a \"delay\" as having 15 mins or more of delay, and \"non-delay\" otherwise\n",
    "auto1['DepDelayed'] = auto1['DepDelay'].apply(lambda x: x<15)\n",
    "auto2['DepDelayed'] = auto2['DepDelay'].apply(lambda x: x<15)\n",
    "auto3['DepDelayed'] = auto3['DepDelay'].apply(lambda x: x<15)\n",
    "auto4['DepDelayed'] = auto4['DepDelay'].apply(lambda x: x<15)\n",
    "auto5['DepDelayed'] = auto5['DepDelay'].apply(lambda x: x<15)\n",
    "auto6['DepDelayed'] = auto6['DepDelay'].apply(lambda x: x<15)\n",
    "auto7['DepDelayed'] = auto7['DepDelay'].apply(lambda x: x<15)\n",
    "auto8['DepDelayed'] = auto8['DepDelay'].apply(lambda x: x<15)\n",
    "auto9['DepDelayed'] = auto9['DepDelay'].apply(lambda x: x<15)\n",
    "auto10['DepDelayed'] = auto10['DepDelay'].apply(lambda x: x<15)\n",
    "auto11['DepDelayed'] = auto11['DepDelay'].apply(lambda x: x<15)\n",
    "auto12['DepDelayed'] = auto12['DepDelay'].apply(lambda x: x<15)\n",
    "auto13['DepDelayed'] = auto13['DepDelay'].apply(lambda x: x<15)\n",
    "auto14['DepDelayed'] = auto14['DepDelay'].apply(lambda x: x<15)\n",
    "auto15['DepDelayed'] = auto15['DepDelay'].apply(lambda x: x<15)\n",
    "auto16['DepDelayed'] = auto16['DepDelay'].apply(lambda x: x<15)\n",
    "\n",
    "auto17['DepDelayed'] = auto17['DepDelay'].apply(lambda x: x<15)\n",
    "auto18['DepDelayed'] = auto18['DepDelay'].apply(lambda x: x<15)\n",
    "\n",
    "auto19['DepDelayed'] = auto19['DepDelay'].apply(lambda x: x<15)\n",
    "auto20['DepDelayed'] = auto20['DepDelay'].apply(lambda x: x<15)\n",
    "auto21['DepDelayed'] = auto21['DepDelay'].apply(lambda x: x<15)\n",
    "auto22['DepDelayed'] = auto22['DepDelay'].apply(lambda x: x<15)\n"
   ]
  },
  {
   "cell_type": "code",
   "execution_count": 4,
   "metadata": {
    "collapsed": true
   },
   "outputs": [],
   "source": [
    "# Compute average number of delayed flights per carrier\n",
    "d1 = auto1[['DepDelayed', 'UniqueCarrier']].groupby('UniqueCarrier').filter(lambda x: len(x)>20)\n",
    "d2 = auto2[['DepDelayed', 'UniqueCarrier']].groupby('UniqueCarrier').filter(lambda x: len(x)>20)\n",
    "d3 = auto3[['DepDelayed', 'UniqueCarrier']].groupby('UniqueCarrier').filter(lambda x: len(x)>20)\n",
    "d4 = auto4[['DepDelayed', 'UniqueCarrier']].groupby('UniqueCarrier').filter(lambda x: len(x)>20)\n",
    "d5 = auto5[['DepDelayed', 'UniqueCarrier']].groupby('UniqueCarrier').filter(lambda x: len(x)>20)\n",
    "d6 = auto6[['DepDelayed', 'UniqueCarrier']].groupby('UniqueCarrier').filter(lambda x: len(x)>20)\n",
    "d7 = auto7[['DepDelayed', 'UniqueCarrier']].groupby('UniqueCarrier').filter(lambda x: len(x)>20)\n",
    "d8 = auto8[['DepDelayed', 'UniqueCarrier']].groupby('UniqueCarrier').filter(lambda x: len(x)>20)\n",
    "d9 = auto9[['DepDelayed', 'UniqueCarrier']].groupby('UniqueCarrier').filter(lambda x: len(x)>20)\n",
    "d10 = auto10[['DepDelayed', 'UniqueCarrier']].groupby('UniqueCarrier').filter(lambda x: len(x)>20)\n",
    "d11 = auto11[['DepDelayed', 'UniqueCarrier']].groupby('UniqueCarrier').filter(lambda x: len(x)>20)\n",
    "d12 = auto12[['DepDelayed', 'UniqueCarrier']].groupby('UniqueCarrier').filter(lambda x: len(x)>20)\n",
    "d13 = auto13[['DepDelayed', 'UniqueCarrier']].groupby('UniqueCarrier').filter(lambda x: len(x)>20)\n",
    "d14 = auto14[['DepDelayed', 'UniqueCarrier']].groupby('UniqueCarrier').filter(lambda x: len(x)>20)\n",
    "d15 = auto15[['DepDelayed', 'UniqueCarrier']].groupby('UniqueCarrier').filter(lambda x: len(x)>20)\n",
    "d16 = auto16[['DepDelayed', 'UniqueCarrier']].groupby('UniqueCarrier').filter(lambda x: len(x)>20)\n",
    "\n",
    "d17 = auto17[['DepDelayed', 'UniqueCarrier']].groupby('UniqueCarrier').filter(lambda x: len(x)>20)\n",
    "d18 = auto18[['DepDelayed', 'UniqueCarrier']].groupby('UniqueCarrier').filter(lambda x: len(x)>20)\n",
    "d19 = auto19[['DepDelayed', 'UniqueCarrier']].groupby('UniqueCarrier').filter(lambda x: len(x)>20)\n",
    "d20 = auto20[['DepDelayed', 'UniqueCarrier']].groupby('UniqueCarrier').filter(lambda x: len(x)>20)\n",
    "d21 = auto21[['DepDelayed', 'UniqueCarrier']].groupby('UniqueCarrier').filter(lambda x: len(x)>20)\n",
    "d22 = auto22[['DepDelayed', 'UniqueCarrier']].groupby('UniqueCarrier').filter(lambda x: len(x)>20)\n",
    "\n",
    "frames =  [d1,d2,d3,d4,d5,d6,d7,d8,d9,d10,d11,d12,d13,d14,d15,d16,d17,d18,d19,d20,d21,d22]"
   ]
  },
  {
   "cell_type": "code",
   "execution_count": 5,
   "metadata": {
    "collapsed": false
   },
   "outputs": [
    {
     "data": {
      "text/html": [
       "<div style=\"max-height:1000px;max-width:1500px;overflow:auto;\">\n",
       "<table border=\"1\" class=\"dataframe\">\n",
       "  <thead>\n",
       "    <tr style=\"text-align: right;\">\n",
       "      <th></th>\n",
       "      <th>DepDelayed</th>\n",
       "    </tr>\n",
       "    <tr>\n",
       "      <th>Description</th>\n",
       "      <th></th>\n",
       "    </tr>\n",
       "  </thead>\n",
       "  <tbody>\n",
       "    <tr>\n",
       "      <th>Hawaiian Airlines Inc.</th>\n",
       "      <td> 0.949878</td>\n",
       "    </tr>\n",
       "    <tr>\n",
       "      <th>Pan American World Airways (1)</th>\n",
       "      <td> 0.873300</td>\n",
       "    </tr>\n",
       "    <tr>\n",
       "      <th>Expressjet Airlines Inc.</th>\n",
       "      <td> 0.821251</td>\n",
       "    </tr>\n",
       "    <tr>\n",
       "      <th>Northwest Airlines Inc.</th>\n",
       "      <td> 0.818543</td>\n",
       "    </tr>\n",
       "    <tr>\n",
       "      <th>ATA Airlines d/b/a ATA</th>\n",
       "      <td> 0.816777</td>\n",
       "    </tr>\n",
       "    <tr>\n",
       "      <th>Frontier Airlines Inc.</th>\n",
       "      <td> 0.811707</td>\n",
       "    </tr>\n",
       "    <tr>\n",
       "      <th>American Airlines Inc.</th>\n",
       "      <td> 0.811450</td>\n",
       "    </tr>\n",
       "    <tr>\n",
       "      <th>Alaska Airlines Inc.</th>\n",
       "      <td> 0.810657</td>\n",
       "    </tr>\n",
       "    <tr>\n",
       "      <th>Delta Air Lines Inc.</th>\n",
       "      <td> 0.808615</td>\n",
       "    </tr>\n",
       "    <tr>\n",
       "      <th>Piedmont Aviation Inc.</th>\n",
       "      <td> 0.808061</td>\n",
       "    </tr>\n",
       "    <tr>\n",
       "      <th>America West Airlines Inc. (Merged with US Airways 9/05. Stopped reporting 10/07.)</th>\n",
       "      <td> 0.804948</td>\n",
       "    </tr>\n",
       "    <tr>\n",
       "      <th>AirTran Airways Corporation</th>\n",
       "      <td> 0.801237</td>\n",
       "    </tr>\n",
       "    <tr>\n",
       "      <th>US Airways Inc. (Merged with America West 9/05. Reporting for both starting 10/07.)</th>\n",
       "      <td> 0.800567</td>\n",
       "    </tr>\n",
       "    <tr>\n",
       "      <th>Continental Air Lines Inc.</th>\n",
       "      <td> 0.794286</td>\n",
       "    </tr>\n",
       "    <tr>\n",
       "      <th>Eastern Air Lines Inc.</th>\n",
       "      <td> 0.790750</td>\n",
       "    </tr>\n",
       "  </tbody>\n",
       "</table>\n",
       "</div>"
      ],
      "text/plain": [
       "                                                                                     DepDelayed\n",
       "Description                                                                                    \n",
       "Hawaiian Airlines Inc.                                                                 0.949878\n",
       "Pan American World Airways (1)                                                         0.873300\n",
       "Expressjet Airlines Inc.                                                               0.821251\n",
       "Northwest Airlines Inc.                                                                0.818543\n",
       "ATA Airlines d/b/a ATA                                                                 0.816777\n",
       "Frontier Airlines Inc.                                                                 0.811707\n",
       "American Airlines Inc.                                                                 0.811450\n",
       "Alaska Airlines Inc.                                                                   0.810657\n",
       "Delta Air Lines Inc.                                                                   0.808615\n",
       "Piedmont Aviation Inc.                                                                 0.808061\n",
       "America West Airlines Inc. (Merged with US Airways 9/05. Stopped reporting 10/07.)     0.804948\n",
       "AirTran Airways Corporation                                                            0.801237\n",
       "US Airways Inc. (Merged with America West 9/05. Reporting for both starting 10/07.)    0.800567\n",
       "Continental Air Lines Inc.                                                             0.794286\n",
       "Eastern Air Lines Inc.                                                                 0.790750"
      ]
     },
     "execution_count": 5,
     "metadata": {},
     "output_type": "execute_result"
    }
   ],
   "source": [
    "result = pd.concat(frames)\n",
    "results = pd.merge(left=result,right=airline, left_on='UniqueCarrier', right_on='Code')\n",
    "#grouped1 = auto1[['DepDelayed', 'UniqueCarrier']].groupby('UniqueCarrier').filter(lambda x: len(x)>10)\n",
    "grouped2 = results.groupby('UniqueCarrier').mean()\n",
    "carrier = grouped2.sort(['DepDelayed'], ascending=False)\n",
    "results.groupby('Description').mean().sort(['DepDelayed'], ascending=False)[:15]"
   ]
  },
  {
   "cell_type": "code",
   "execution_count": 6,
   "metadata": {
    "collapsed": false
   },
   "outputs": [
    {
     "data": {
      "image/png": "[encoded data removed]",
      "text/plain": [
       "<matplotlib.figure.Figure at 0x7f97fa776a10>"
      ]
     },
     "metadata": {},
     "output_type": "display_data"
    }
   ],
   "source": [
    "# display top 15 carriers by delay\n",
    "carrier[:15].plot(kind='bar')\n",
    "plt.xticks(rotation=90)\n",
    "plt.xlabel(\"Carriers\")\n",
    "plt.ylabel(\"Mean Departure Delayed\")\n",
    "plt.title(\"Top 15 Best Carriers by delay: 1987-2008\")\n",
    "plt.show()"
   ]
  },
  {
   "cell_type": "code",
   "execution_count": 7,
   "metadata": {
    "collapsed": true
   },
   "outputs": [],
   "source": [
    "#Generating a variable defining a \"delay\" as having 15 mins or more of delay, and \"non-delay\" otherwise\n",
    "auto1['DepDelayed'] = auto1['DepDelay'].apply(lambda x: x>=15)\n",
    "auto2['DepDelayed'] = auto2['DepDelay'].apply(lambda x: x>=15)\n",
    "auto3['DepDelayed'] = auto3['DepDelay'].apply(lambda x: x>=15)\n",
    "auto4['DepDelayed'] = auto4['DepDelay'].apply(lambda x: x>=15)\n",
    "auto5['DepDelayed'] = auto5['DepDelay'].apply(lambda x: x>=15)\n",
    "auto6['DepDelayed'] = auto6['DepDelay'].apply(lambda x: x>=15)\n",
    "auto7['DepDelayed'] = auto7['DepDelay'].apply(lambda x: x>=15)\n",
    "auto8['DepDelayed'] = auto8['DepDelay'].apply(lambda x: x>=15)\n",
    "auto9['DepDelayed'] = auto9['DepDelay'].apply(lambda x: x>=15)\n",
    "auto10['DepDelayed'] = auto10['DepDelay'].apply(lambda x: x>=15)\n",
    "auto11['DepDelayed'] = auto11['DepDelay'].apply(lambda x: x>=15)\n",
    "auto12['DepDelayed'] = auto12['DepDelay'].apply(lambda x: x>=15)\n",
    "auto13['DepDelayed'] = auto13['DepDelay'].apply(lambda x: x>=15)\n",
    "auto14['DepDelayed'] = auto14['DepDelay'].apply(lambda x: x>=15)\n",
    "auto15['DepDelayed'] = auto15['DepDelay'].apply(lambda x: x>=15)\n",
    "auto16['DepDelayed'] = auto16['DepDelay'].apply(lambda x: x>=15)\n",
    "\n",
    "auto17['DepDelayed'] = auto17['DepDelay'].apply(lambda x: x>=15)\n",
    "auto18['DepDelayed'] = auto18['DepDelay'].apply(lambda x: x>=15)\n",
    "\n",
    "auto19['DepDelayed'] = auto19['DepDelay'].apply(lambda x: x>=15)\n",
    "auto20['DepDelayed'] = auto20['DepDelay'].apply(lambda x: x>=15)\n",
    "auto21['DepDelayed'] = auto21['DepDelay'].apply(lambda x: x>=15)\n",
    "auto22['DepDelayed'] = auto22['DepDelay'].apply(lambda x: x>=15)"
   ]
  },
  {
   "cell_type": "code",
   "execution_count": 8,
   "metadata": {
    "collapsed": true
   },
   "outputs": [],
   "source": [
    "# Compute average number of delayed flights per carrier\n",
    "d1 = auto1[['DepDelayed', 'UniqueCarrier']].groupby('UniqueCarrier').filter(lambda x: len(x)>20)\n",
    "d2 = auto2[['DepDelayed', 'UniqueCarrier']].groupby('UniqueCarrier').filter(lambda x: len(x)>20)\n",
    "d3 = auto3[['DepDelayed', 'UniqueCarrier']].groupby('UniqueCarrier').filter(lambda x: len(x)>20)\n",
    "d4 = auto4[['DepDelayed', 'UniqueCarrier']].groupby('UniqueCarrier').filter(lambda x: len(x)>20)\n",
    "d5 = auto5[['DepDelayed', 'UniqueCarrier']].groupby('UniqueCarrier').filter(lambda x: len(x)>20)\n",
    "d6 = auto6[['DepDelayed', 'UniqueCarrier']].groupby('UniqueCarrier').filter(lambda x: len(x)>20)\n",
    "d7 = auto7[['DepDelayed', 'UniqueCarrier']].groupby('UniqueCarrier').filter(lambda x: len(x)>20)\n",
    "d8 = auto8[['DepDelayed', 'UniqueCarrier']].groupby('UniqueCarrier').filter(lambda x: len(x)>20)\n",
    "d9 = auto9[['DepDelayed', 'UniqueCarrier']].groupby('UniqueCarrier').filter(lambda x: len(x)>20)\n",
    "d10 = auto10[['DepDelayed', 'UniqueCarrier']].groupby('UniqueCarrier').filter(lambda x: len(x)>20)\n",
    "d11 = auto11[['DepDelayed', 'UniqueCarrier']].groupby('UniqueCarrier').filter(lambda x: len(x)>20)\n",
    "d12 = auto12[['DepDelayed', 'UniqueCarrier']].groupby('UniqueCarrier').filter(lambda x: len(x)>20)\n",
    "d13 = auto13[['DepDelayed', 'UniqueCarrier']].groupby('UniqueCarrier').filter(lambda x: len(x)>20)\n",
    "d14 = auto14[['DepDelayed', 'UniqueCarrier']].groupby('UniqueCarrier').filter(lambda x: len(x)>20)\n",
    "d15 = auto15[['DepDelayed', 'UniqueCarrier']].groupby('UniqueCarrier').filter(lambda x: len(x)>20)\n",
    "d16 = auto16[['DepDelayed', 'UniqueCarrier']].groupby('UniqueCarrier').filter(lambda x: len(x)>20)\n",
    "\n",
    "d17 = auto17[['DepDelayed', 'UniqueCarrier']].groupby('UniqueCarrier').filter(lambda x: len(x)>20)\n",
    "d18 = auto18[['DepDelayed', 'UniqueCarrier']].groupby('UniqueCarrier').filter(lambda x: len(x)>20)\n",
    "d19 = auto19[['DepDelayed', 'UniqueCarrier']].groupby('UniqueCarrier').filter(lambda x: len(x)>20)\n",
    "d20 = auto20[['DepDelayed', 'UniqueCarrier']].groupby('UniqueCarrier').filter(lambda x: len(x)>20)\n",
    "d21 = auto21[['DepDelayed', 'UniqueCarrier']].groupby('UniqueCarrier').filter(lambda x: len(x)>20)\n",
    "d22 = auto22[['DepDelayed', 'UniqueCarrier']].groupby('UniqueCarrier').filter(lambda x: len(x)>20)\n",
    "\n",
    "frames =  [d1,d2,d3,d4,d5,d6,d7,d8,d9,d10,d11,d12,d13,d14,d15,d16,d17,d18,d19,d20,d21,d22]"
   ]
  },
  {
   "cell_type": "code",
   "execution_count": 9,
   "metadata": {
    "collapsed": false
   },
   "outputs": [
    {
     "data": {
      "text/html": [
       "<div style=\"max-height:1000px;max-width:1500px;overflow:auto;\">\n",
       "<table border=\"1\" class=\"dataframe\">\n",
       "  <thead>\n",
       "    <tr style=\"text-align: right;\">\n",
       "      <th></th>\n",
       "      <th>DepDelayed</th>\n",
       "    </tr>\n",
       "    <tr>\n",
       "      <th>Description</th>\n",
       "      <th></th>\n",
       "    </tr>\n",
       "  </thead>\n",
       "  <tbody>\n",
       "    <tr>\n",
       "      <th>Atlantic Southeast Airlines</th>\n",
       "      <td> 0.223359</td>\n",
       "    </tr>\n",
       "    <tr>\n",
       "      <th>Mesa Airlines Inc.</th>\n",
       "      <td> 0.219202</td>\n",
       "    </tr>\n",
       "    <tr>\n",
       "      <th>Comair Inc.</th>\n",
       "      <td> 0.214520</td>\n",
       "    </tr>\n",
       "    <tr>\n",
       "      <th>Pacific Southwest Airlines</th>\n",
       "      <td> 0.206789</td>\n",
       "    </tr>\n",
       "    <tr>\n",
       "      <th>Trans World Airways LLC</th>\n",
       "      <td> 0.203587</td>\n",
       "    </tr>\n",
       "    <tr>\n",
       "      <th>Skywest Airlines Inc.</th>\n",
       "      <td> 0.199213</td>\n",
       "    </tr>\n",
       "    <tr>\n",
       "      <th>United Air Lines Inc.</th>\n",
       "      <td> 0.197342</td>\n",
       "    </tr>\n",
       "    <tr>\n",
       "      <th>Southwest Airlines Co.</th>\n",
       "      <td> 0.195490</td>\n",
       "    </tr>\n",
       "    <tr>\n",
       "      <th>Frontier Airlines Inc.</th>\n",
       "      <td> 0.184497</td>\n",
       "    </tr>\n",
       "    <tr>\n",
       "      <th>Midway Airlines Inc. (1)</th>\n",
       "      <td> 0.182632</td>\n",
       "    </tr>\n",
       "    <tr>\n",
       "      <th>AirTran Airways Corporation</th>\n",
       "      <td> 0.182603</td>\n",
       "    </tr>\n",
       "    <tr>\n",
       "      <th>Eastern Air Lines Inc.</th>\n",
       "      <td> 0.176846</td>\n",
       "    </tr>\n",
       "    <tr>\n",
       "      <th>America West Airlines Inc. (Merged with US Airways 9/05. Stopped reporting 10/07.)</th>\n",
       "      <td> 0.173204</td>\n",
       "    </tr>\n",
       "    <tr>\n",
       "      <th>Continental Air Lines Inc.</th>\n",
       "      <td> 0.170886</td>\n",
       "    </tr>\n",
       "    <tr>\n",
       "      <th>American Eagle Airlines Inc.</th>\n",
       "      <td> 0.168780</td>\n",
       "    </tr>\n",
       "  </tbody>\n",
       "</table>\n",
       "</div>"
      ],
      "text/plain": [
       "                                                                                    DepDelayed\n",
       "Description                                                                                   \n",
       "Atlantic Southeast Airlines                                                           0.223359\n",
       "Mesa Airlines Inc.                                                                    0.219202\n",
       "Comair Inc.                                                                           0.214520\n",
       "Pacific Southwest Airlines                                                            0.206789\n",
       "Trans World Airways LLC                                                               0.203587\n",
       "Skywest Airlines Inc.                                                                 0.199213\n",
       "United Air Lines Inc.                                                                 0.197342\n",
       "Southwest Airlines Co.                                                                0.195490\n",
       "Frontier Airlines Inc.                                                                0.184497\n",
       "Midway Airlines Inc. (1)                                                              0.182632\n",
       "AirTran Airways Corporation                                                           0.182603\n",
       "Eastern Air Lines Inc.                                                                0.176846\n",
       "America West Airlines Inc. (Merged with US Airways 9/05. Stopped reporting 10/07.)    0.173204\n",
       "Continental Air Lines Inc.                                                            0.170886\n",
       "American Eagle Airlines Inc.                                                          0.168780"
      ]
     },
     "execution_count": 9,
     "metadata": {},
     "output_type": "execute_result"
    }
   ],
   "source": [
    "result = pd.concat(frames)\n",
    "results = pd.merge(left=result,right=airline, left_on='UniqueCarrier', right_on='Code')\n",
    "#grouped1 = auto1[['DepDelayed', 'UniqueCarrier']].groupby('UniqueCarrier').filter(lambda x: len(x)>10)\n",
    "grouped2 = results.groupby('UniqueCarrier').mean()\n",
    "carrier_worse = grouped2.sort(['DepDelayed'], ascending=False)\n",
    "results.groupby('Description').mean().sort(['DepDelayed'], ascending=False)[:15]"
   ]
  },
  {
   "cell_type": "code",
   "execution_count": 10,
   "metadata": {
    "collapsed": false
   },
   "outputs": [
    {
     "data": {
      "image/png": "[encoded data removed]",
      "text/plain": [
       "<matplotlib.figure.Figure at 0x7f97ed4be450>"
      ]
     },
     "metadata": {},
     "output_type": "display_data"
    }
   ],
   "source": [
    "# display top 15 carriers by delay\n",
    "carrier_worse[:15].plot(kind='bar',color='r')\n",
    "plt.xticks(rotation=90)\n",
    "plt.xlabel(\"Carriers\")\n",
    "plt.ylabel(\"Mean Departure Delayed\")\n",
    "plt.title(\"Top 15 Worst Carriers by delay: 1987-2008\")\n",
    "plt.show()"
   ]
  },
  {
   "cell_type": "code",
   "execution_count": null,
   "metadata": {
    "collapsed": true
   },
   "outputs": [],
   "source": []
  }
 ],
 "metadata": {
  "kernelspec": {
   "display_name": "Python 2",
   "language": "python",
   "name": "python2"
  },
  "language_info": {
   "codemirror_mode": {
    "name": "ipython",
    "version": 2
   },
   "file_extension": ".py",
   "mimetype": "text/x-python",
   "name": "python",
   "nbconvert_exporter": "python",
   "pygments_lexer": "ipython2",
   "version": "2.7.10"
  }
 },
 "nbformat": 4,
 "nbformat_minor": 0
}
